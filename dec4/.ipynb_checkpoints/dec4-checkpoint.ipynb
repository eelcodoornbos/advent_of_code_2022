{
 "cells": [
  {
   "cell_type": "code",
   "execution_count": 46,
   "id": "412e5417-2a69-4a07-8ba9-b007ce66e6b9",
   "metadata": {},
   "outputs": [],
   "source": [
    "example_input = '''2-4,6-8\n",
    "2-3,4-5\n",
    "5-7,7-9\n",
    "2-8,3-7\n",
    "6-6,4-6\n",
    "2-6,4-8'''\n",
    "\n",
    "with open('input.txt', 'r') as fh:\n",
    "    real_input = fh.read()"
   ]
  },
  {
   "cell_type": "code",
   "execution_count": 48,
   "id": "18a69aa9-7bce-411a-836e-f2f343d889e9",
   "metadata": {},
   "outputs": [
    {
     "name": "stdout",
     "output_type": "stream",
     "text": [
      "599 928\n"
     ]
    }
   ],
   "source": [
    "def range_to_list(range_in):\n",
    "    (start, end) = range_in.split('-')\n",
    "    return list(range(int(start), int(end)+1))\n",
    "\n",
    "count1 = 0\n",
    "count2 = 0\n",
    "for line in real_input.split('\\n'):\n",
    "    (rangestr0, rangestr1) = line.split(',')\n",
    "    list0 = range_to_list(rangestr1)\n",
    "    list1 = range_to_list(rangestr0)\n",
    "    # Problem 1\n",
    "    list0_in_list1 = all([elem in list1 for elem in list0])\n",
    "    list1_in_list0 = all([elem in list0 for elem in list1])\n",
    "    if list0_in_list1 or list1_in_list0:\n",
    "        count1 += 1\n",
    "    # Problem 2\n",
    "    overlaps = any([elem in list1 for elem in list0])\n",
    "    if overlaps:\n",
    "        count2 += 1\n",
    "\n",
    "print(count1, count2)"
   ]
  },
  {
   "cell_type": "code",
   "execution_count": 39,
   "id": "93239cdc-c607-47e8-bb4a-df82abb143b2",
   "metadata": {},
   "outputs": [],
   "source": [
    "list0 = ['a', 'b', 'c']\n",
    "list1 = ['a', 'b', 'c', 'd', 'e']"
   ]
  },
  {
   "cell_type": "code",
   "execution_count": 44,
   "id": "7f94e776-de2d-44d4-832a-335b662118f1",
   "metadata": {},
   "outputs": [
    {
     "ename": "SyntaxError",
     "evalue": "invalid syntax (3262468014.py, line 1)",
     "output_type": "error",
     "traceback": [
      "\u001b[0;36m  Input \u001b[0;32mIn [44]\u001b[0;36m\u001b[0m\n\u001b[0;31m    elem in list0 for elem in list1\u001b[0m\n\u001b[0m                  ^\u001b[0m\n\u001b[0;31mSyntaxError\u001b[0m\u001b[0;31m:\u001b[0m invalid syntax\n"
     ]
    }
   ],
   "source": [
    "elem in list0 for elem in list1"
   ]
  },
  {
   "cell_type": "code",
   "execution_count": 30,
   "id": "c5e8047b-1ffc-4a88-bc21-66a51a63d9ea",
   "metadata": {},
   "outputs": [
    {
     "data": {
      "text/plain": [
       "928"
      ]
     },
     "execution_count": 30,
     "metadata": {},
     "output_type": "execute_result"
    }
   ],
   "source": [
    "count2"
   ]
  },
  {
   "cell_type": "code",
   "execution_count": 11,
   "id": "19c03316-54d3-414f-adad-e133427edf4e",
   "metadata": {},
   "outputs": [
    {
     "data": {
      "text/plain": [
       "[2, 3, 4, 5, 6]"
      ]
     },
     "execution_count": 11,
     "metadata": {},
     "output_type": "execute_result"
    }
   ],
   "source": [
    "range_to_list(range0)"
   ]
  },
  {
   "cell_type": "code",
   "execution_count": null,
   "id": "13f2d3c9-471b-46eb-ab6e-d7206b0f155a",
   "metadata": {},
   "outputs": [],
   "source": []
  }
 ],
 "metadata": {
  "kernelspec": {
   "display_name": "Python 3 (ipykernel)",
   "language": "python",
   "name": "python3"
  },
  "language_info": {
   "codemirror_mode": {
    "name": "ipython",
    "version": 3
   },
   "file_extension": ".py",
   "mimetype": "text/x-python",
   "name": "python",
   "nbconvert_exporter": "python",
   "pygments_lexer": "ipython3",
   "version": "3.10.2"
  }
 },
 "nbformat": 4,
 "nbformat_minor": 5
}
