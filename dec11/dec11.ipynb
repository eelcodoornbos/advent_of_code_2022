{
 "cells": [
  {
   "cell_type": "markdown",
   "id": "1d16c4ba-a40f-4fdf-8311-3bb227f56343",
   "metadata": {},
   "source": [
    "## Parse input"
   ]
  },
  {
   "cell_type": "code",
   "execution_count": 150,
   "id": "db623297-3128-4ac2-85e0-96bd91904a2e",
   "metadata": {},
   "outputs": [],
   "source": [
    "def get_input(filename = 'test_input.txt'):\n",
    "    with open(filename, 'r') as fh:\n",
    "        lines = [l.strip() for l in fh.readlines()]\n",
    "\n",
    "    monkey_ids = []\n",
    "    items = {}\n",
    "    operations = {}\n",
    "    test_numbers = {}\n",
    "    true_targets = {}\n",
    "    false_targets = {}\n",
    "    for line in lines:\n",
    "        if line.startswith('Monkey'):\n",
    "            monkey_id = line[0:-1] # Remove \":\" at end\n",
    "            monkey_ids.append(monkey_id)\n",
    "            items[monkey_id] = []\n",
    "        elif line.startswith('Starting items'):\n",
    "            starting_items = [int(item) for item in line.split(':')[1].split(',')]\n",
    "            items[monkey_id] = starting_items\n",
    "        elif line.startswith('Operation'):\n",
    "            operations[monkey_id] = line.split('=')[1].strip()\n",
    "        elif line.startswith('Test: divisible by'):\n",
    "            test_numbers[monkey_id] = int(line.split()[-1])\n",
    "        elif line.startswith('If true'):\n",
    "            true_targets[monkey_id] = f\"Monkey {line.split()[-1]}\"\n",
    "        elif line.startswith('If false'):\n",
    "            false_targets[monkey_id] = f\"Monkey {line.split()[-1]}\"\n",
    "        elif line == \"\":\n",
    "            pass\n",
    "        else:\n",
    "            print(\"Invalid line: \", line)\n",
    "    return monkey_ids, items, operations, test_numbers, true_targets, false_targets"
   ]
  },
  {
   "cell_type": "markdown",
   "id": "330542c9-a02e-4621-a428-6678f0c9a45c",
   "metadata": {},
   "source": [
    "## Start the stuff-slinging simian shenanigans"
   ]
  },
  {
   "cell_type": "code",
   "execution_count": 152,
   "id": "7e2a0c0a-2509-4750-b7ed-85887b992e8e",
   "metadata": {},
   "outputs": [],
   "source": [
    "monkey_ids, items, operations, test_numbers, true_targets, false_targets = get_input('real_input.txt')\n",
    "\n",
    "part = 2\n",
    "\n",
    "worry_reducer = 1\n",
    "for number in test_numbers.values():\n",
    "    worry_reducer = worry_reducer * number\n",
    "\n",
    "if part == 1:\n",
    "    divide_by_three = True\n",
    "    max_rounds = 20\n",
    "elif part == 2:\n",
    "    divide_by_three = False\n",
    "    max_rounds = 10000\n",
    "\n",
    "# Initialize inspections\n",
    "inspections = {}\n",
    "for monkey_id in monkey_ids:\n",
    "    inspections[monkey_id] = 0\n",
    "    \n",
    "for slinging_round in range(max_rounds):\n",
    "    for monkey_id in monkey_ids:\n",
    "        for item in items[monkey_id]:\n",
    "            inspections[monkey_id] += 1\n",
    "            new_item = eval(operations[monkey_id], {}, {'old': item})\n",
    "            if divide_by_three:\n",
    "                new_item = int(new_item / 3)\n",
    "                test = new_item % test_numbers[monkey_id] == 0\n",
    "            else:\n",
    "                new_item = new_item % worry_reducer\n",
    "            test = new_item % test_numbers[monkey_id] == 0\n",
    "            if test:\n",
    "                items[true_targets[monkey_id]].append(new_item)\n",
    "            else:\n",
    "                items[false_targets[monkey_id]].append(new_item)\n",
    "        items[monkey_id] = []"
   ]
  },
  {
   "cell_type": "code",
   "execution_count": 153,
   "id": "534bb213-4ea7-42f4-aef0-d87054db9004",
   "metadata": {},
   "outputs": [
    {
     "data": {
      "text/plain": [
       "{'Monkey 0': 78494,\n",
       " 'Monkey 1': 86032,\n",
       " 'Monkey 2': 183784,\n",
       " 'Monkey 3': 176620,\n",
       " 'Monkey 4': 237828,\n",
       " 'Monkey 5': 216047,\n",
       " 'Monkey 6': 96016,\n",
       " 'Monkey 7': 27635}"
      ]
     },
     "execution_count": 153,
     "metadata": {},
     "output_type": "execute_result"
    }
   ],
   "source": [
    "inspections"
   ]
  },
  {
   "cell_type": "code",
   "execution_count": 154,
   "id": "dca1b4c7-fab0-412b-9194-03834ede5b05",
   "metadata": {},
   "outputs": [
    {
     "name": "stdout",
     "output_type": "stream",
     "text": [
      "51382025916\n"
     ]
    }
   ],
   "source": [
    "sorted_inspections = sorted(inspections.values())\n",
    "print(sorted_inspections[-2] * sorted_inspections[-1])"
   ]
  }
 ],
 "metadata": {
  "kernelspec": {
   "display_name": "Python 3 (ipykernel)",
   "language": "python",
   "name": "python3"
  },
  "language_info": {
   "codemirror_mode": {
    "name": "ipython",
    "version": 3
   },
   "file_extension": ".py",
   "mimetype": "text/x-python",
   "name": "python",
   "nbconvert_exporter": "python",
   "pygments_lexer": "ipython3",
   "version": "3.10.8"
  }
 },
 "nbformat": 4,
 "nbformat_minor": 5
}
