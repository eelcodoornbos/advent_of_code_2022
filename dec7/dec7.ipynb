{
 "cells": [
  {
   "cell_type": "code",
   "execution_count": 1,
   "id": "366d6627-32b4-433c-8789-307dbc71397b",
   "metadata": {},
   "outputs": [],
   "source": [
    "from anytree import Node, RenderTree, PreOrderIter, PostOrderIter, Walker"
   ]
  },
  {
   "cell_type": "code",
   "execution_count": 16,
   "id": "7b29dcc5-3c8d-4434-9cbf-e5eccfa83f22",
   "metadata": {},
   "outputs": [
    {
     "name": "stdout",
     "output_type": "stream",
     "text": [
      "Adding  14848514 to /, resulting in  14848514\n",
      "Adding   8504156 to /, resulting in  23352670\n",
      "Adding     29116 to a, resulting in     29116\n",
      "Adding     29116 to /, resulting in  23381786\n",
      "Adding      2557 to a, resulting in     31673\n",
      "Adding      2557 to /, resulting in  23384343\n",
      "Adding     62596 to a, resulting in     94269\n",
      "Adding     62596 to /, resulting in  23446939\n",
      "Adding       584 to e, resulting in       584\n",
      "Adding       584 to a, resulting in     94853\n",
      "Adding       584 to /, resulting in  23447523\n",
      "Adding      1000 to y, resulting in      1000\n",
      "Adding      1000 to e, resulting in      1584\n",
      "Adding      1000 to a, resulting in     95853\n",
      "Adding      1000 to /, resulting in  23448523\n",
      "Adding      1000 to y, resulting in      2000\n",
      "Adding      1000 to e, resulting in      2584\n",
      "Adding      1000 to a, resulting in     96853\n",
      "Adding      1000 to /, resulting in  23449523\n",
      "Adding      1000 to yy, resulting in      1000\n",
      "Adding      1000 to y, resulting in      3000\n",
      "Adding      1000 to e, resulting in      3584\n",
      "Adding      1000 to a, resulting in     97853\n",
      "Adding      1000 to /, resulting in  23450523\n",
      "Adding   4060174 to d, resulting in   4060174\n",
      "Adding   4060174 to /, resulting in  27510697\n",
      "Adding   8033020 to d, resulting in  12093194\n",
      "Adding   8033020 to /, resulting in  35543717\n",
      "Adding   5626152 to d, resulting in  17719346\n",
      "Adding   5626152 to /, resulting in  41169869\n",
      "Adding   7214296 to d, resulting in  24933642\n",
      "Adding   7214296 to /, resulting in  48384165\n"
     ]
    }
   ],
   "source": [
    "with open('example2_input.txt', 'r') as fh:\n",
    "    text = fh.read()\n",
    "    lines = text.split('\\n')\n",
    "\n",
    "def parse_input(lines):\n",
    "    root = Node({'dirname': '/', 'size': 0})\n",
    "    parent = root\n",
    "    w = Walker()\n",
    "    ls_mode = False\n",
    "    for line in lines:\n",
    "        if line.startswith('$ cd /'):\n",
    "            ls_mode = False\n",
    "            parent = root\n",
    "        elif line.startswith('$ cd'):\n",
    "            ls_mode = False\n",
    "            dirname = line[5:]\n",
    "            if dirname == '..':\n",
    "                parent = parent.parent\n",
    "            else:\n",
    "                prev_parent = parent\n",
    "                parent = Node({'dirname': dirname, 'size': 0}, parent=prev_parent)\n",
    "        elif line.startswith('$ ls'):\n",
    "            ls_mode = True\n",
    "        elif ls_mode:\n",
    "            if len(line) > 0 and not line.startswith('dir '):\n",
    "                (size, name) = line.split()\n",
    "                new_file = Node({'filename': name, 'size': int(size)}, parent=parent)\n",
    "                parentnode = new_file.parent\n",
    "                while parentnode:\n",
    "                    parentnode.name['size'] += int(size)\n",
    "                    print(f\"Adding {int(size):9d} to {parentnode.name['dirname']}, resulting in {parentnode.name['size']:9d}\")\n",
    "                    parentnode = parentnode.parent\n",
    "        else:\n",
    "            ls_mode = False\n",
    "            print(\"unknown line: \", line)\n",
    "    return root\n",
    "\n",
    "root = parse_input(lines)"
   ]
  },
  {
   "cell_type": "code",
   "execution_count": 10,
   "id": "daf855eb-7780-4bc1-9491-7d0f8ba1c6eb",
   "metadata": {},
   "outputs": [
    {
     "name": "stdout",
     "output_type": "stream",
     "text": [
      " {'dirname': '/', 'size': 48384165}\n",
      "├──  {'filename': 'b.txt', 'size': 14848514}\n",
      "├──  {'filename': 'c.dat', 'size': 8504156}\n",
      "├──  {'dirname': 'a', 'size': 97853}\n",
      "│   ├──  {'filename': 'f', 'size': 29116}\n",
      "│   ├──  {'filename': 'g', 'size': 2557}\n",
      "│   ├──  {'filename': 'h.lst', 'size': 62596}\n",
      "│   └──  {'dirname': 'e', 'size': 3584}\n",
      "│       ├──  {'filename': 'i', 'size': 584}\n",
      "│       └──  {'dirname': 'y', 'size': 3000}\n",
      "│           ├──  {'filename': 'test1', 'size': 1000}\n",
      "│           ├──  {'filename': 'test2', 'size': 1000}\n",
      "│           └──  {'dirname': 'yy', 'size': 1000}\n",
      "│               └──  {'filename': 'test3', 'size': 1000}\n",
      "└──  {'dirname': 'd', 'size': 24933642}\n",
      "    ├──  {'filename': 'j', 'size': 4060174}\n",
      "    ├──  {'filename': 'd.log', 'size': 8033020}\n",
      "    ├──  {'filename': 'd.ext', 'size': 5626152}\n",
      "    └──  {'filename': 'k', 'size': 7214296}\n"
     ]
    }
   ],
   "source": [
    "for pre, fill, node in RenderTree(root):\n",
    "    print(f\"{pre} {node.name}\")"
   ]
  },
  {
   "cell_type": "code",
   "execution_count": 11,
   "id": "c673e93f-5906-470a-bca2-1ca2509dfc5a",
   "metadata": {},
   "outputs": [],
   "source": [
    "# def compute_dirsizes(dirnode):\n",
    "#     total_file_size = 0\n",
    "#     dirlist = []\n",
    "#     for subnode in PostOrderIter(dirnode):\n",
    "#         if 'size' in subnode.name.keys():\n",
    "#             total_file_size += subnode.name['size']\n",
    "#         if 'dirname' in subnode.name.keys():\n",
    "#             if subnode is not dirnode:\n",
    "#                 subdirsize = compute_dirsizes(subnode)\n",
    "#                 total_file_size += subdirsize\n",
    "#                 dirlist.append({subnode.name['dirname']: subdirsize})\n",
    "#     return total_file_size\n",
    "\n",
    "dirs = {}\n",
    "for subnode in PostOrderIter(root):\n",
    "    if 'dirname' in subnode.name.keys():\n",
    "        dirs[subnode.name['dirname']] = subnode.name['size']"
   ]
  },
  {
   "cell_type": "code",
   "execution_count": 12,
   "id": "af1f3e2d-62a2-4e5e-ac52-204bb69f738e",
   "metadata": {},
   "outputs": [
    {
     "data": {
      "text/plain": [
       "{'yy': 1000, 'y': 3000, 'e': 3584, 'a': 97853, 'd': 24933642, '/': 48384165}"
      ]
     },
     "execution_count": 12,
     "metadata": {},
     "output_type": "execute_result"
    }
   ],
   "source": [
    "dirs"
   ]
  },
  {
   "cell_type": "code",
   "execution_count": 13,
   "id": "384d7450-c683-4112-8286-995a802afbec",
   "metadata": {},
   "outputs": [
    {
     "name": "stdout",
     "output_type": "stream",
     "text": [
      "Include:     1000 yy\n",
      "Include:     3000 y\n",
      "Include:     3584 e\n",
      "Include:    97853 a\n",
      "answer:  105437\n"
     ]
    }
   ],
   "source": [
    "answer = 0\n",
    "for name, dirsize in dirs.items():\n",
    "    if dirsize <= 100000:\n",
    "        print(f\"Include: {dirsize:8d} {name}\")\n",
    "        answer += dirsize\n",
    "print(\"answer: \", answer)"
   ]
  },
  {
   "cell_type": "code",
   "execution_count": null,
   "id": "5be0133f-1d52-4f06-a558-6f64a0a4b4b0",
   "metadata": {},
   "outputs": [],
   "source": []
  }
 ],
 "metadata": {
  "kernelspec": {
   "display_name": "Python 3 (ipykernel)",
   "language": "python",
   "name": "python3"
  },
  "language_info": {
   "codemirror_mode": {
    "name": "ipython",
    "version": 3
   },
   "file_extension": ".py",
   "mimetype": "text/x-python",
   "name": "python",
   "nbconvert_exporter": "python",
   "pygments_lexer": "ipython3",
   "version": "3.10.2"
  }
 },
 "nbformat": 4,
 "nbformat_minor": 5
}
