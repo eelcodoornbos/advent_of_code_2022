{
 "cells": [
  {
   "cell_type": "code",
   "execution_count": 1,
   "id": "57c2d1a0-059e-4860-8a34-2da58a74f7ad",
   "metadata": {},
   "outputs": [],
   "source": [
    "example_input = '''    [D]    \n",
    "[N] [C]    \n",
    "[Z] [M] [P]\n",
    " 1   2   3 \n",
    "\n",
    "move 1 from 2 to 1\n",
    "move 3 from 1 to 3\n",
    "move 2 from 2 to 1\n",
    "move 1 from 1 to 2'''\n",
    "\n",
    "with open('input.txt', 'r') as fh:\n",
    "    real_input = fh.read()"
   ]
  },
  {
   "cell_type": "code",
   "execution_count": 11,
   "id": "97e167bc-80d6-45ec-b1dd-803604f2b7c6",
   "metadata": {},
   "outputs": [
    {
     "name": "stdout",
     "output_type": "stream",
     "text": [
      "Number of stacks:  9\n",
      "===\n",
      "HRFTQVWNN"
     ]
    }
   ],
   "source": [
    "lines  = real_input.splitlines()\n",
    "numstacks = int((len(lines[0])+1) / 4)\n",
    "\n",
    "print(\"Number of stacks: \", numstacks)\n",
    "\n",
    "# initialize stack\n",
    "stacks = []\n",
    "for i in range(numstacks):\n",
    "    stacks.append([])\n",
    "\n",
    "# initialize instructions\n",
    "moves = []\n",
    "\n",
    "for line in lines:\n",
    "    if line.strip().startswith('['):\n",
    "        # parse stacks input\n",
    "        for istack in range(numstacks):\n",
    "            contents = line[istack*4:istack*4+3]\n",
    "            if contents.startswith('['):\n",
    "                stacks[istack].append(contents[1:2])\n",
    "    elif line.startswith('move'):\n",
    "        (num_to_move, stack_moves) = line[5:].split('from')\n",
    "        (stack_from, stack_to) = stack_moves.split('to')\n",
    "        moves.append({'num': int(num_to_move), 'from': int(stack_from)-1, 'to': int(stack_to)-1})\n",
    "       \n",
    "    \n",
    "# Perform the moves\n",
    "cratemover = 9001\n",
    "i = 0\n",
    "if cratemover == 9000:\n",
    "    for move in moves:\n",
    "        i+=1\n",
    "        for imove in range(move['num']):\n",
    "            stacks[move['to']] = [stacks[move['from']].pop(0), *stacks[move['to']]]\n",
    "elif cratemover == 9001:\n",
    "    for move in moves:\n",
    "        i+=1\n",
    "        pieces_to_move = stacks[move['from']][0:move['num']]\n",
    "        stacks[move['to']] = [*pieces_to_move, *stacks[move['to']]]\n",
    "        stacks[move['from']] = stacks[move['from']][move['num']:]\n",
    "else:\n",
    "    print(\"Error, unknown crate mover type\")\n",
    "        \n",
    "print(\"===\")\n",
    "# Output letters at top of stack\n",
    "for stack in stacks:\n",
    "    if len(stack) > 0:\n",
    "        print(stack[0], end='')"
   ]
  },
  {
   "cell_type": "code",
   "execution_count": null,
   "id": "76400e05-fa8c-4106-9ccd-236564c2413f",
   "metadata": {},
   "outputs": [],
   "source": []
  }
 ],
 "metadata": {
  "kernelspec": {
   "display_name": "Python 3 (ipykernel)",
   "language": "python",
   "name": "python3"
  },
  "language_info": {
   "codemirror_mode": {
    "name": "ipython",
    "version": 3
   },
   "file_extension": ".py",
   "mimetype": "text/x-python",
   "name": "python",
   "nbconvert_exporter": "python",
   "pygments_lexer": "ipython3",
   "version": "3.10.2"
  }
 },
 "nbformat": 4,
 "nbformat_minor": 5
}
