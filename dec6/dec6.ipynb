{
 "cells": [
  {
   "cell_type": "code",
   "execution_count": 34,
   "id": "6bc0546a-de2b-433f-88c4-f6495008bcf2",
   "metadata": {},
   "outputs": [],
   "source": [
    "with open('input.txt', 'r') as fh:\n",
    "    real_stream = fh.read()"
   ]
  },
  {
   "cell_type": "code",
   "execution_count": 49,
   "id": "88a60f83-bc65-4f3f-8bbc-ac04c02b0524",
   "metadata": {},
   "outputs": [],
   "source": [
    "def different_chars(string):\n",
    "    '''Returns true if the string contains only unique characters'''\n",
    "    return len(list(string)) == len(set(list(string)))\n",
    "\n",
    "def find_start_of_unique_sequence(stream, n_unique):\n",
    "    for start in range(0, len(stream)):\n",
    "        substream = stream[start:start+n_unique]\n",
    "        if different_chars(substream) and start>=n_unique-1:\n",
    "            print(start+n_unique, substream)\n",
    "            return"
   ]
  },
  {
   "cell_type": "code",
   "execution_count": 50,
   "id": "1a7a7edd-243e-4995-bd35-ea997506a94d",
   "metadata": {},
   "outputs": [
    {
     "name": "stdout",
     "output_type": "stream",
     "text": [
      "7 jpqm\n"
     ]
    }
   ],
   "source": [
    "example_stream = 'mjqjpqmgbljsphdztnvjfqwrcgsmlb'\n",
    "find_start_of_unique_sequence(example_stream, 4)"
   ]
  },
  {
   "cell_type": "code",
   "execution_count": 51,
   "id": "a3b06d12-331f-4f1f-bbe6-4c3b19ca0328",
   "metadata": {},
   "outputs": [
    {
     "name": "stdout",
     "output_type": "stream",
     "text": [
      "1766 lpdn\n"
     ]
    }
   ],
   "source": [
    "find_start_of_unique_sequence(real_stream, 4)"
   ]
  },
  {
   "cell_type": "code",
   "execution_count": 52,
   "id": "69b694b0-8af1-49dc-adbf-9bba3aca30a5",
   "metadata": {},
   "outputs": [
    {
     "name": "stdout",
     "output_type": "stream",
     "text": [
      "2383 pcgbwntjvlsfrz\n"
     ]
    }
   ],
   "source": [
    "find_start_of_unique_sequence(real_stream, 14)"
   ]
  },
  {
   "cell_type": "code",
   "execution_count": null,
   "id": "668fcf56-bf79-4bd5-8ebf-a6d67cfc51a1",
   "metadata": {},
   "outputs": [],
   "source": []
  }
 ],
 "metadata": {
  "kernelspec": {
   "display_name": "Python 3 (ipykernel)",
   "language": "python",
   "name": "python3"
  },
  "language_info": {
   "codemirror_mode": {
    "name": "ipython",
    "version": 3
   },
   "file_extension": ".py",
   "mimetype": "text/x-python",
   "name": "python",
   "nbconvert_exporter": "python",
   "pygments_lexer": "ipython3",
   "version": "3.10.8"
  }
 },
 "nbformat": 4,
 "nbformat_minor": 5
}
