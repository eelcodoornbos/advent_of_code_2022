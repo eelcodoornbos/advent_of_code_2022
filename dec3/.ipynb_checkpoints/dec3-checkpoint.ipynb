{
 "cells": [
  {
   "cell_type": "markdown",
   "id": "846e1e59-efab-456a-b141-e849994963a8",
   "metadata": {},
   "source": [
    "## Input"
   ]
  },
  {
   "cell_type": "code",
   "execution_count": 2,
   "id": "98facb86-dacf-4bab-94ec-be873160d820",
   "metadata": {},
   "outputs": [],
   "source": [
    "example_input = '''vJrwpWtwJgWrhcsFMMfFFhFp\n",
    "jqHRNqRjqzjGDLGLrsFMfFZSrLrFZsSL\n",
    "PmmdzqPrVvPwwTWBwg\n",
    "wMqvLMZHhHMvwLHjbvcjnnSBnvTQFn\n",
    "ttgJtRGJQctTZtZT\n",
    "CrZsJsPPZsGzwwsLwLmpwMDw'''\n",
    "\n",
    "with open('input.txt', 'r') as fh:\n",
    "    real_input = fh.read()"
   ]
  },
  {
   "cell_type": "markdown",
   "id": "51561de9-ffa5-469c-9a37-1f04e584bcc7",
   "metadata": {},
   "source": [
    "## Prepare letter values"
   ]
  },
  {
   "cell_type": "code",
   "execution_count": 3,
   "id": "2f0fed40-5dcc-4a66-b837-d340193f1c66",
   "metadata": {},
   "outputs": [],
   "source": [
    "lowercase_letters = 'abcdefghijklmnopqrstuvwxyz'\n",
    "lowercase_letter_values = {letter: i+1 for (i, letter) in enumerate(lowercase_letters)}\n",
    "uppercase_letter_values = {letter: i+27 for (i, letter) in enumerate(lowercase_letters.upper())}\n",
    "letter_values = {**lowercase_letter_values, **uppercase_letter_values}"
   ]
  },
  {
   "cell_type": "markdown",
   "id": "b8545161-c7d8-43f8-b559-c6080df36cf6",
   "metadata": {},
   "source": [
    "## Part 1"
   ]
  },
  {
   "cell_type": "code",
   "execution_count": 4,
   "id": "210a9707-e143-45cf-8ebe-c4cb2e6cf0ec",
   "metadata": {},
   "outputs": [
    {
     "data": {
      "text/plain": [
       "7848"
      ]
     },
     "execution_count": 4,
     "metadata": {},
     "output_type": "execute_result"
    }
   ],
   "source": [
    "total_priority = 0\n",
    "for line in real_input.split('\\n'):\n",
    "    line_length = len(line)\n",
    "    rucksack1 = line[0:int(line_length/2)]\n",
    "    rucksack2 = line[int(line_length/2):]\n",
    "    double_chars = list(set([char for char in rucksack1 if char in rucksack2]))\n",
    "    for double_char in double_chars:\n",
    "        priority = letter_values[double_char]\n",
    "        total_priority += priority\n",
    "total_priority"
   ]
  },
  {
   "cell_type": "markdown",
   "id": "3f64ca90-4999-496e-aa2e-96cb7e120cb5",
   "metadata": {},
   "source": [
    "## Part 2"
   ]
  },
  {
   "cell_type": "code",
   "execution_count": 5,
   "id": "7200561b-53cd-491a-bcd7-f2d790cf6f1c",
   "metadata": {},
   "outputs": [
    {
     "data": {
      "text/plain": [
       "2616"
      ]
     },
     "execution_count": 5,
     "metadata": {},
     "output_type": "execute_result"
    }
   ],
   "source": [
    "total_priority = 0\n",
    "input_list = real_input.split('\\n')\n",
    "for i in range(0, len(input_list), 3):\n",
    "    rucksack_set_1 = input_list[i]\n",
    "    rucksack_set_2 = input_list[i+1]\n",
    "    rucksack_set_3 = input_list[i+2]\n",
    "    duplicates = [char for char in rucksack_set_1 if char in rucksack_set_2 and char in rucksack_set_3]\n",
    "    # Can take zeroth item from list of duplicates, because the problem states there is at most one duplicate\n",
    "    # in all three rucksacks.\n",
    "    total_priority += letter_values[duplicates[0]] \n",
    "total_priority"
   ]
  },
  {
   "cell_type": "code",
   "execution_count": null,
   "id": "bb76c1db-c60e-4446-95e9-cf9a5a0cc958",
   "metadata": {},
   "outputs": [],
   "source": []
  }
 ],
 "metadata": {
  "kernelspec": {
   "display_name": "Python 3 (ipykernel)",
   "language": "python",
   "name": "python3"
  },
  "language_info": {
   "codemirror_mode": {
    "name": "ipython",
    "version": 3
   },
   "file_extension": ".py",
   "mimetype": "text/x-python",
   "name": "python",
   "nbconvert_exporter": "python",
   "pygments_lexer": "ipython3",
   "version": "3.10.8"
  }
 },
 "nbformat": 4,
 "nbformat_minor": 5
}
