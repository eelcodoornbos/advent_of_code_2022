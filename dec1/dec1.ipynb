{
 "cells": [
  {
   "cell_type": "code",
   "execution_count": 33,
   "id": "826f7a84-86f2-40ac-a3c6-f299b549f2d2",
   "metadata": {},
   "outputs": [
    {
     "name": "stdout",
     "output_type": "stream",
     "text": [
      "answer 1:  71471\n",
      "answer 2:  211189\n"
     ]
    }
   ],
   "source": [
    "# Part 1\n",
    "import numpy as np\n",
    "elf_calories = [[]]\n",
    "elf_index = 0\n",
    "with open('input') as file_input:\n",
    "    for line in file_input.readlines():\n",
    "        if line=='\\n':\n",
    "            elf_calories.append([])\n",
    "            elf_index += 1\n",
    "        else:\n",
    "            elf_calories[elf_index].append(int(line))\n",
    "total_elf_calories = []\n",
    "for elf in elf_calories:\n",
    "    total_elf_calories.append(np.sum(elf))\n",
    "answer1 = np.array(total_elf_calories).max()\n",
    "print(\"answer 1: \", answer1)\n",
    "answer2 = np.sum(sorted(total_elf_calories)[-3:])\n",
    "print(\"answer 2: \", answer2)"
   ]
  },
  {
   "cell_type": "code",
   "execution_count": null,
   "id": "cc53e3d7-7915-4077-be73-92ae6ee7e99d",
   "metadata": {},
   "outputs": [],
   "source": []
  }
 ],
 "metadata": {
  "kernelspec": {
   "display_name": "Python 3 (ipykernel)",
   "language": "python",
   "name": "python3"
  },
  "language_info": {
   "codemirror_mode": {
    "name": "ipython",
    "version": 3
   },
   "file_extension": ".py",
   "mimetype": "text/x-python",
   "name": "python",
   "nbconvert_exporter": "python",
   "pygments_lexer": "ipython3",
   "version": "3.10.8"
  }
 },
 "nbformat": 4,
 "nbformat_minor": 5
}
