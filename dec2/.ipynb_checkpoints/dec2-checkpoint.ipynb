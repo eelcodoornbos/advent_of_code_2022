{
 "cells": [
  {
   "cell_type": "code",
   "execution_count": 1,
   "id": "ddb980fe-bc48-490c-a835-413ae540901d",
   "metadata": {},
   "outputs": [],
   "source": [
    "import pandas as pd"
   ]
  },
  {
   "cell_type": "code",
   "execution_count": 2,
   "id": "40746df9-2497-4028-84f7-1d22c0598f9e",
   "metadata": {},
   "outputs": [
    {
     "data": {
      "text/plain": [
       "15"
      ]
     },
     "execution_count": 2,
     "metadata": {},
     "output_type": "execute_result"
    }
   ],
   "source": [
    "columns = ['opponent', 'me']\n",
    "df = pd.DataFrame(data=[['A', 'Y'], ['B', 'X'], ['C', 'Z']], columns=columns)\n",
    "\n",
    "# Uncomment to read input data\n",
    "#df = pd.read_table('input.txt', delim_whitespace=True, header=None, names=columns)\n",
    "\n",
    "translation = {\n",
    "    'A': 'rock',\n",
    "    'B': 'paper',\n",
    "    'C': 'scissors',\n",
    "    'X': 'rock',\n",
    "    'Y': 'paper',\n",
    "    'Z': 'scissors'\n",
    "}\n",
    "winning_moves = {\n",
    "    'scissors': 'rock',\n",
    "    'paper': 'scissors',\n",
    "    'rock': 'paper',\n",
    "}\n",
    "points_for_move = {\n",
    "    'rock': 1,\n",
    "    'paper': 2,\n",
    "    'scissors': 3,\n",
    "}\n",
    "def points_for_win_draw_loose(row):\n",
    "    if row['me'] == row['opponent']:\n",
    "        # Draw\n",
    "        return 3\n",
    "    elif row['me'] == winning_moves[row['opponent']]:\n",
    "        # Win\n",
    "        return 6\n",
    "    else:\n",
    "        # Lose\n",
    "        return 0\n",
    "\n",
    "df['me'] = df['me'].map(translation)\n",
    "df['opponent'] = df['opponent'].map(translation)\n",
    "df['points_per_type_played'] = df['me'].map(points_for_move)   \n",
    "df['points_win_draw_lose'] = df.apply(points_for_win_draw_loose, axis=1)\n",
    "answer1 = df['points_per_type_played'].sum() + df['points_win_draw_lose'].sum()\n",
    "answer1"
   ]
  },
  {
   "cell_type": "code",
   "execution_count": 3,
   "id": "36016906-80d1-4ebf-9736-d1263066354d",
   "metadata": {},
   "outputs": [
    {
     "data": {
      "text/html": [
       "<div>\n",
       "<style scoped>\n",
       "    .dataframe tbody tr th:only-of-type {\n",
       "        vertical-align: middle;\n",
       "    }\n",
       "\n",
       "    .dataframe tbody tr th {\n",
       "        vertical-align: top;\n",
       "    }\n",
       "\n",
       "    .dataframe thead th {\n",
       "        text-align: right;\n",
       "    }\n",
       "</style>\n",
       "<table border=\"1\" class=\"dataframe\">\n",
       "  <thead>\n",
       "    <tr style=\"text-align: right;\">\n",
       "      <th></th>\n",
       "      <th>opponent</th>\n",
       "      <th>me</th>\n",
       "      <th>points_per_type_played</th>\n",
       "      <th>points_win_draw_loose</th>\n",
       "    </tr>\n",
       "  </thead>\n",
       "  <tbody>\n",
       "    <tr>\n",
       "      <th>0</th>\n",
       "      <td>rock</td>\n",
       "      <td>paper</td>\n",
       "      <td>2</td>\n",
       "      <td>6</td>\n",
       "    </tr>\n",
       "    <tr>\n",
       "      <th>1</th>\n",
       "      <td>paper</td>\n",
       "      <td>rock</td>\n",
       "      <td>1</td>\n",
       "      <td>0</td>\n",
       "    </tr>\n",
       "    <tr>\n",
       "      <th>2</th>\n",
       "      <td>scissors</td>\n",
       "      <td>scissors</td>\n",
       "      <td>3</td>\n",
       "      <td>3</td>\n",
       "    </tr>\n",
       "  </tbody>\n",
       "</table>\n",
       "</div>"
      ],
      "text/plain": [
       "   opponent        me  points_per_type_played  points_win_draw_loose\n",
       "0      rock     paper                       2                      6\n",
       "1     paper      rock                       1                      0\n",
       "2  scissors  scissors                       3                      3"
      ]
     },
     "execution_count": 3,
     "metadata": {},
     "output_type": "execute_result"
    }
   ],
   "source": [
    "df"
   ]
  },
  {
   "cell_type": "code",
   "execution_count": 4,
   "id": "b7261437-6e0b-44c5-97c1-883fb4955ac6",
   "metadata": {},
   "outputs": [
    {
     "data": {
      "text/plain": [
       "12"
      ]
     },
     "execution_count": 4,
     "metadata": {},
     "output_type": "execute_result"
    }
   ],
   "source": [
    "columns = ['opponent', 'outcome']\n",
    "df = pd.DataFrame(data=[['A', 'Y'], ['B', 'X'], ['C', 'Z']], columns=columns)\n",
    "\n",
    "# Uncomment to read input data\n",
    "#df = pd.read_table('input.txt', delim_whitespace=True, header=None, names=columns)\n",
    "\n",
    "translation = {\n",
    "    'A': 'rock',\n",
    "    'B': 'paper',\n",
    "    'C': 'scissors',\n",
    "    'X': 'lose',\n",
    "    'Y': 'draw',\n",
    "    'Z': 'win'\n",
    "}\n",
    "# Switch around key and value to get losing moves from winning moves\n",
    "losing_moves = {v: k for (k, v) in winning_moves.items()}\n",
    "\n",
    "def move_required(row):\n",
    "    if row['outcome'] == 'draw':\n",
    "        return row['opponent']\n",
    "    elif row['outcome'] == 'win':\n",
    "        return winning_moves[row['opponent']]\n",
    "    else:\n",
    "        return losing_moves[row['opponent']]\n",
    "\n",
    "df['opponent'] = df['opponent'].map(translation)\n",
    "df['outcome'] = df['outcome'].map(translation)\n",
    "df['me'] = df.apply(move_required, axis=1)\n",
    "df['points_per_type_played'] = df['me'].map(points_for_move)\n",
    "df['points_win_draw_lose'] = df.apply(points_for_win_draw_loose, axis=1)\n",
    "answer2 = df['points_per_type_played'].sum() + df['points_win_draw_lose'].sum()\n",
    "answer2"
   ]
  },
  {
   "cell_type": "code",
   "execution_count": 5,
   "id": "c5837053-fb80-4e49-9b23-d9a4b3815c46",
   "metadata": {},
   "outputs": [
    {
     "data": {
      "text/html": [
       "<div>\n",
       "<style scoped>\n",
       "    .dataframe tbody tr th:only-of-type {\n",
       "        vertical-align: middle;\n",
       "    }\n",
       "\n",
       "    .dataframe tbody tr th {\n",
       "        vertical-align: top;\n",
       "    }\n",
       "\n",
       "    .dataframe thead th {\n",
       "        text-align: right;\n",
       "    }\n",
       "</style>\n",
       "<table border=\"1\" class=\"dataframe\">\n",
       "  <thead>\n",
       "    <tr style=\"text-align: right;\">\n",
       "      <th></th>\n",
       "      <th>opponent</th>\n",
       "      <th>outcome</th>\n",
       "      <th>me</th>\n",
       "      <th>points_per_type_played</th>\n",
       "      <th>points_win_draw_loose</th>\n",
       "    </tr>\n",
       "  </thead>\n",
       "  <tbody>\n",
       "    <tr>\n",
       "      <th>0</th>\n",
       "      <td>rock</td>\n",
       "      <td>draw</td>\n",
       "      <td>rock</td>\n",
       "      <td>1</td>\n",
       "      <td>3</td>\n",
       "    </tr>\n",
       "    <tr>\n",
       "      <th>1</th>\n",
       "      <td>paper</td>\n",
       "      <td>lose</td>\n",
       "      <td>rock</td>\n",
       "      <td>1</td>\n",
       "      <td>0</td>\n",
       "    </tr>\n",
       "    <tr>\n",
       "      <th>2</th>\n",
       "      <td>scissors</td>\n",
       "      <td>win</td>\n",
       "      <td>rock</td>\n",
       "      <td>1</td>\n",
       "      <td>6</td>\n",
       "    </tr>\n",
       "  </tbody>\n",
       "</table>\n",
       "</div>"
      ],
      "text/plain": [
       "   opponent outcome    me  points_per_type_played  points_win_draw_loose\n",
       "0      rock    draw  rock                       1                      3\n",
       "1     paper    lose  rock                       1                      0\n",
       "2  scissors     win  rock                       1                      6"
      ]
     },
     "execution_count": 5,
     "metadata": {},
     "output_type": "execute_result"
    }
   ],
   "source": [
    "df"
   ]
  }
 ],
 "metadata": {
  "kernelspec": {
   "display_name": "Python 3 (ipykernel)",
   "language": "python",
   "name": "python3"
  },
  "language_info": {
   "codemirror_mode": {
    "name": "ipython",
    "version": 3
   },
   "file_extension": ".py",
   "mimetype": "text/x-python",
   "name": "python",
   "nbconvert_exporter": "python",
   "pygments_lexer": "ipython3",
   "version": "3.10.8"
  }
 },
 "nbformat": 4,
 "nbformat_minor": 5
}
