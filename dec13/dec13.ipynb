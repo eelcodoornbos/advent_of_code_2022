{
 "cells": [
  {
   "cell_type": "code",
   "execution_count": 123,
   "id": "b4def803-9550-4130-8eda-45901f0e5d58",
   "metadata": {},
   "outputs": [],
   "source": [
    "with open('real_input.txt', 'r') as fh:\n",
    "    input_content = fh.read()"
   ]
  },
  {
   "cell_type": "code",
   "execution_count": 124,
   "id": "cf7779ca-8c03-499f-8fa2-6dbe2ffe3ab1",
   "metadata": {},
   "outputs": [],
   "source": [
    "pairs = [[eval(pair) for pair in pair_to_split.split('\\n')] for pair_to_split in input_content.split('\\n\\n')]"
   ]
  },
  {
   "cell_type": "code",
   "execution_count": 125,
   "id": "24380588-d698-4b97-88ae-8dded11433a6",
   "metadata": {},
   "outputs": [],
   "source": [
    "def check_pair(left, right):\n",
    "    left_type = type(left)\n",
    "    right_type = type(right)\n",
    "    # print(f\"Checking {left} against {right}\")\n",
    "    if left_type == int and right_type == int:\n",
    "        # Both integers\n",
    "        return left < right\n",
    "    if left_type == list and right_type == list:\n",
    "        for item in list(zip(left, right)):\n",
    "            # print(\"In zip \", list(zip(left, right)), item)\n",
    "            if item[0] == item[1]:\n",
    "                continue\n",
    "            else:\n",
    "                return check_pair(item[0], item[1])\n",
    "        # if we arrive here, it matters which list has run out of items first\n",
    "        return len(left) < len(right)\n",
    "    if left_type == list and right_type == int:\n",
    "        return check_pair(left, [right])\n",
    "    if left_type == int and right_type == list:\n",
    "        return check_pair([left], right)"
   ]
  },
  {
   "cell_type": "markdown",
   "id": "68ecd1ad-cd1b-4bbc-bc29-a120d6b5cb58",
   "metadata": {},
   "source": [
    "## Part 1"
   ]
  },
  {
   "cell_type": "code",
   "execution_count": 126,
   "id": "ab041496-55d9-4b77-a213-174b34a6f14b",
   "metadata": {},
   "outputs": [
    {
     "name": "stdout",
     "output_type": "stream",
     "text": [
      "5390\n"
     ]
    }
   ],
   "source": [
    "sum = 0\n",
    "for index, pair in enumerate(pairs):\n",
    "    left = pair[0]\n",
    "    right = pair[1]\n",
    "\n",
    "    if check_pair(left, right):\n",
    "        sum += index + 1\n",
    "\n",
    "print(sum)"
   ]
  },
  {
   "cell_type": "markdown",
   "id": "84e8b5d1-8e30-4cd2-b0eb-d99dc071c269",
   "metadata": {},
   "source": [
    "## Part 2"
   ]
  },
  {
   "cell_type": "code",
   "execution_count": 127,
   "id": "f29d65df-4b1b-4484-8e95-5d0a1fbf4da1",
   "metadata": {},
   "outputs": [],
   "source": [
    "from functools import cmp_to_key\n",
    "\n",
    "flattened_list = []\n",
    "for pair in pairs:\n",
    "    flattened_list.append(pair[0])\n",
    "    flattened_list.append(pair[1])\n",
    "\n",
    "flattened_list.append([[2]])\n",
    "flattened_list.append([[6]])\n",
    "    \n",
    "def compare_function(left, right):\n",
    "    if check_pair(left, right):\n",
    "        return 1\n",
    "    else:\n",
    "        return -1\n",
    "\n",
    "ordered_list = sorted(flattened_list, key=cmp_to_key(compare_function), reverse=True)\n",
    "\n",
    "    "
   ]
  },
  {
   "cell_type": "code",
   "execution_count": 128,
   "id": "f8c04ba4-3243-49fe-975a-d4f545eeb8f8",
   "metadata": {},
   "outputs": [
    {
     "name": "stdout",
     "output_type": "stream",
     "text": [
      "19261\n"
     ]
    }
   ],
   "source": [
    "product = 1\n",
    "for index, item in enumerate(ordered_list):\n",
    "    if item == [[2]] or item == [[6]]:\n",
    "        product *= index + 1\n",
    "\n",
    "print(product)"
   ]
  }
 ],
 "metadata": {
  "kernelspec": {
   "display_name": "Python 3 (ipykernel)",
   "language": "python",
   "name": "python3"
  },
  "language_info": {
   "codemirror_mode": {
    "name": "ipython",
    "version": 3
   },
   "file_extension": ".py",
   "mimetype": "text/x-python",
   "name": "python",
   "nbconvert_exporter": "python",
   "pygments_lexer": "ipython3",
   "version": "3.10.2"
  }
 },
 "nbformat": 4,
 "nbformat_minor": 5
}
