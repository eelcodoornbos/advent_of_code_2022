{
 "cells": [
  {
   "cell_type": "code",
   "execution_count": 1,
   "id": "ff1fe443-3c6a-4c13-9246-7665c05a7543",
   "metadata": {},
   "outputs": [],
   "source": [
    "import numpy as np\n",
    "import xarray as xr\n",
    "import pygmt"
   ]
  },
  {
   "cell_type": "code",
   "execution_count": 2,
   "id": "a661077e-b45f-4a62-9e70-32a1ecf31072",
   "metadata": {},
   "outputs": [],
   "source": [
    "with open('real_input.txt', 'r') as fh:\n",
    "    lines = [line.strip() for line in fh.readlines()]\n",
    "\n",
    "letter_values = {letter: value for value, letter in enumerate('abcdefghijklmnopqrstuvwxyz')}\n",
    "    \n",
    "numx = len(lines[0])\n",
    "numy = len(lines)\n",
    "grid = np.zeros((numy, numx))\n",
    "\n",
    "for x in np.arange(numx):\n",
    "    for y in np.arange(numy-1, -1, -1):\n",
    "        letter = lines[y][x]\n",
    "        if letter == 'S':\n",
    "            grid[y,x] = 0\n",
    "            start = (y, x)\n",
    "        elif letter == 'E':\n",
    "            grid[y,x] = 26\n",
    "            end = (y, x)\n",
    "        elif letter in letter_values.keys():\n",
    "            grid[y,x] = letter_values[letter]\n",
    "        else:\n",
    "            print(\"Invalid letter: \", letter)\n",
    "    "
   ]
  },
  {
   "cell_type": "code",
   "execution_count": 3,
   "id": "dc2791e2-9710-49a5-8a40-c30a706c5e72",
   "metadata": {},
   "outputs": [],
   "source": [
    "# direct_distance_grid = np.zeros((numy, numx))\n",
    "# rightmove_grid = np.zeros((numy, numx))\n",
    "# leftmove_grid = np.zeros((numy, numx))\n",
    "# upmove_grid = np.zeros((numy, numx))\n",
    "# downmove_grid = np.zeros((numy, numx))\n",
    "# for iy in range(numy):\n",
    "#     ydist = iy-end[0]\n",
    "#     for ix in range(numx):\n",
    "#         xdist = ix-end[1]\n",
    "#         direct_distance_grid[iy, ix] = np.sqrt(ydist*ydist+xdist*xdist)\n",
    "#         rightmove_grid[iy, ix] = grid[iy,min(ix+1,numx-1)] <= grid[iy,ix] + 1\n",
    "#         leftmove_grid[iy, ix] = grid[iy,max(ix-1,0)] <= grid[iy,ix] + 1\n",
    "#         upmove_grid[iy, ix] = grid[min(iy+1,numy-1),ix] <= grid[iy,ix] + 1\n",
    "#         downmove_grid[iy, ix] = grid[max(iy-1,0),ix] <= grid[iy,ix] + 1\n",
    "# # distance_grid = np.max(distance_grid) - distance_grid"
   ]
  },
  {
   "cell_type": "code",
   "execution_count": 4,
   "id": "e069f835-23e0-4a2f-8f30-f82aa352a942",
   "metadata": {},
   "outputs": [],
   "source": [
    "distance_grid = np.zeros((numy, numx))\n",
    "distance_grid[:,:] = 1e33\n",
    "visited_grid = np.zeros((numy, numx))\n",
    "visited_grid[:,:] = 0\n",
    "idx_x_grid = np.zeros((numy, numx), dtype='int')\n",
    "idx_x_grid[:,:] = -1\n",
    "idx_y_grid = np.zeros((numy, numx), dtype='int')\n",
    "idx_y_grid[:,:] = -1\n",
    "\n",
    "distance_grid[start] = 0\n",
    "idx_y_grid[start] = start[0]\n",
    "idx_x_grid[start] = start[1]\n",
    "\n",
    "def valid_steps(grid, start):\n",
    "    steps = []\n",
    "    directions = [[1, 0], [-1, 0], [0, 1], [0, -1]]\n",
    "    for direction in directions:\n",
    "        new_position = tuple(start + np.array(direction))\n",
    "        if new_position[0] < 0 or new_position[0] > numy-1 or new_position[1] < 0 or new_position[1] > numx-1:\n",
    "            # not in grid\n",
    "            continue\n",
    "        if grid[tuple(new_position)] > grid[tuple(start)] + 1:\n",
    "            # too steep to climb without climbing gear\n",
    "            continue\n",
    "        steps.append(tuple(new_position))\n",
    "    return steps\n",
    "\n",
    "\n",
    "current = start\n",
    "step = current\n",
    "def traverse(grid, current, end):\n",
    "    global visited_grid, distance_grid, idx_y_grid, idx_x_grid\n",
    "    step = current\n",
    "    if np.all(np.array(step) == np.array(end)):\n",
    "        return True\n",
    "    for step in valid_steps(grid, current):\n",
    "        if distance_grid[current] + 1 < distance_grid[step]: # Update shortest path to this point\n",
    "            distance_grid[step] = distance_grid[current] + 1\n",
    "            idx_y_grid[step] = current[0]\n",
    "            idx_x_grid[step] = current[1]\n",
    "        if visited_grid[step] == 0:\n",
    "            visited_grid[step] = 1\n",
    "            traverse(grid, step, end)\n",
    "            \n",
    "traverse(grid, start, end)"
   ]
  },
  {
   "cell_type": "code",
   "execution_count": 5,
   "id": "3a79b302-2f5b-4288-8713-bd0d37fb4a50",
   "metadata": {},
   "outputs": [],
   "source": [
    "path = []\n",
    "current = end\n",
    "while current != start:\n",
    "    path.append(list(current))\n",
    "    current = (idx_y_grid[current], idx_x_grid[current])"
   ]
  },
  {
   "cell_type": "code",
   "execution_count": null,
   "id": "8b7b80a7-99ee-481b-a26d-edcbf833a119",
   "metadata": {},
   "outputs": [],
   "source": [
    "proj = f\"X{numx/10}c/{numy/10}c\"\n",
    "xrgrid = xr.DataArray(grid)\n",
    "xrgrid.gmt.registration = 1\n",
    "xrgrid.gmt.gtype = 0\n",
    "fig = pygmt.Figure()\n",
    "fig.grdimage(xrgrid, cmap='turbo', frame=True, projection=proj)\n",
    "fig.plot(x=start[1], y=start[0], style='c0.15c', pen='0.5p,white', color='white')\n",
    "fig.plot(x=end[1], y=end[0], style='c0.15c', pen='0.5p,white', color='black')\n",
    "fig.colorbar()\n",
    "fig.show(width=1000)"
   ]
  },
  {
   "cell_type": "code",
   "execution_count": null,
   "id": "e84e5e05-1470-47f4-9ea8-f0dffd7b9ee2",
   "metadata": {},
   "outputs": [],
   "source": [
    "xrgrid = xr.DataArray(grid)\n",
    "xrgrid.gmt.registration = 1\n",
    "xrgrid.gmt.gtype = 0\n",
    "fig = pygmt.Figure()\n",
    "fig.grdimage(xrgrid, cmap='turbo', frame=True, projection=proj, region=[-0.5,numx-0.5,-0.5,numy-0.5])\n",
    "fig.plot(x=start[1], y=start[0], style='c0.15c', pen='0.5p,white', color='white')\n",
    "fig.plot(x=end[1], y=end[0], style='c0.15c', pen='0.5p,white', color='black')\n",
    "fig.plot(x=valid_path[:,1], y=valid_path[:,0], pen='1p,white')\n",
    "fig.show(width=1400)\n",
    "fig.savefig(\"not_quite_shortest_path.png\")"
   ]
  },
  {
   "cell_type": "code",
   "execution_count": null,
   "id": "bd002919-654a-4ef1-9c5b-0569be257b92",
   "metadata": {},
   "outputs": [],
   "source": [
    "!open not_quite_shortest_path.png"
   ]
  }
 ],
 "metadata": {
  "kernelspec": {
   "display_name": "Python 3 (ipykernel)",
   "language": "python",
   "name": "python3"
  },
  "language_info": {
   "codemirror_mode": {
    "name": "ipython",
    "version": 3
   },
   "file_extension": ".py",
   "mimetype": "text/x-python",
   "name": "python",
   "nbconvert_exporter": "python",
   "pygments_lexer": "ipython3",
   "version": "3.10.8"
  }
 },
 "nbformat": 4,
 "nbformat_minor": 5
}
